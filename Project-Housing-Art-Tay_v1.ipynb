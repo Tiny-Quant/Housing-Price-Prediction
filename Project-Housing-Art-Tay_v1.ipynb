{
 "cells": [
  {
   "cell_type": "raw",
   "metadata": {},
   "source": [
    "---\n",
    "title: \"Kaggle Housing Price Prediction Challenge\"\n",
    "author: \"Art Tay\"\n",
    "format:\n",
    "  pdf:\n",
    "   documentclass: article\n",
    "   papersize: letter\n",
    "\n",
    "execute:\n",
    "  enabled: true\n",
    "---"
   ]
  },
  {
   "cell_type": "code",
   "execution_count": 1,
   "metadata": {},
   "outputs": [],
   "source": [
    "# Libraries\n",
    "import pandas as pd \n",
    "import numpy as np \n",
    "from sklearn_pandas import dataframe_mapper"
   ]
  },
  {
   "cell_type": "code",
   "execution_count": 2,
   "metadata": {},
   "outputs": [],
   "source": [
    "# Read in data\n",
    "train = pd.read_csv(\"data/train.csv\")\n",
    "test = pd.read_csv(\"data/test.csv\")\n",
    "#train.info()\n",
    "#test.info()"
   ]
  },
  {
   "cell_type": "markdown",
   "metadata": {},
   "source": [
    "# Functions"
   ]
  },
  {
   "cell_type": "markdown",
   "metadata": {},
   "source": [
    "# Generic Data Cleaning"
   ]
  },
  {
   "cell_type": "code",
   "execution_count": 3,
   "metadata": {},
   "outputs": [],
   "source": [
    "# Converts all object (string) columns to \n",
    "# be categorical.\n",
    "# @param: train - a pandas dataframe\n",
    "# Note: Technically unnecessary because pd.get_dummies will \n",
    "# dummy string, objects and category.\n",
    "def to_cat(train):\n",
    "    train[train.select_dtypes(['object']).columns] = (\n",
    "        train.select_dtypes(['object'])\n",
    "        .apply(lambda x: x.astype('category'))\n",
    "    )\n",
    "    return train\n"
   ]
  },
  {
   "cell_type": "markdown",
   "metadata": {},
   "source": [
    "# Penalized Regression"
   ]
  },
  {
   "cell_type": "markdown",
   "metadata": {},
   "source": [
    "## Data Cleaning"
   ]
  },
  {
   "cell_type": "code",
   "execution_count": 4,
   "metadata": {},
   "outputs": [],
   "source": [
    "# Code string columns as categorical\n",
    "train['MSSubClass'] = train['MSSubClass'].astype('category')\n",
    "\n",
    "train[train.select_dtypes(['object']).columns] = (\n",
    "    train.select_dtypes(['object'])\n",
    "    .apply(lambda x: x.astype('category'))\n",
    ")\n",
    "\n",
    "# Feature Engineering\n",
    "# NewGarage\n",
    "train['NewGarage'] = (\n",
    "    np.where(train['GarageYrBlt'].isnull(), 0, \n",
    "        np.where(train['GarageYrBlt'] > train['YearBuilt'], 1, 0))\n",
    ")\n",
    "\n",
    "# YearSinceRmdl\n",
    "train['YearSinceRmdl'] = 2016 - train['YearRemodAdd']\n",
    "\n",
    "# Rmdl\n",
    "train['Rmdl'] = np.where(train['YearBuilt'] < train['YearRemodAdd'], 1, 0)\n",
    "\n",
    "# TotalPorchArea\n",
    "train['TotalPorchArea'] = (\n",
    "    train['WoodDeckSF'] + train['OpenPorchSF'] + \n",
    "    train['EnclosedPorch'] + train['3SsnPorch'] + \n",
    "    train['ScreenPorch']\n",
    ")\n",
    "\n",
    "#PorchYes\n",
    "train['PorchYes'] = np.where(train['TotalPorchArea'] > 0, 1, 0)\n",
    "\n",
    "# TotalFinishedBsmt\n",
    "train['TotalFinishedBsmt'] = train['BsmtFinSF1'] + train['BsmtFinSF2']\n",
    "\n",
    "# PercentFinishedBsmt\n",
    "train['PercentFinishedBsmt'] = np.where(train['TotalBsmtSF'] > 0, \n",
    "    train['TotalFinishedBsmt'] / train['TotalBsmtSF'] * 100, 0)\n",
    "\n",
    "# TotalSqFt\n",
    "train['TotalSqFt'] = train['GrLivArea'] + train['TotalFinishedBsmt']\n",
    "\n",
    "# PercentLowQual\n",
    "train['PercentLowQual'] = train['LowQualFinSF'] * 100 / train['TotalSqFt']\n",
    "\n",
    "# IsNew\n",
    "train['IsNew'] = np.where(train['YrSold'] == train['YearRemodAdd'], 1, 0)\n",
    "\n",
    "# House_Age\n",
    "train['House_age'] = train['YrSold'] - train['YearRemodAdd']\n",
    "\n",
    "# NeighRich\n",
    "train['NeighRich'] = np.select(\n",
    "    condlist = [\n",
    "        train['Neighborhood'] == ('StoneBr' or 'NridgHt' or 'NoRidge'), \n",
    "        train['Neighborhood'] == ('MeadowV' or 'IDOTRR' or 'BrDale')\n",
    "    ], \n",
    "    choicelist = [2, 0],\n",
    "    default = 1\n",
    ")"
   ]
  },
  {
   "cell_type": "code",
   "execution_count": 5,
   "metadata": {},
   "outputs": [
    {
     "name": "stdout",
     "output_type": "stream",
     "text": [
      "[1 2 3 4 5]\n",
      "[0 1 2 3 4 5]\n",
      "[0 1 2 4 5 6]\n"
     ]
    }
   ],
   "source": [
    "def get_col(train, x): \n",
    "    return train[x].head()\n",
    "\n",
    "get_col(train, \"NeighRich\")\n",
    "\n",
    "# Converts a categorical column to be on an ordeal scale.\n",
    "# Scale was determined ad-hoc.\n",
    "# @param: train - a pandas dataframe\n",
    "# @param: col_name - a string name of the column to be converted\n",
    "def ord_scale_1(train, col_name):\n",
    "    ret = np.select(\n",
    "        condlist = [\n",
    "            train[col_name] == \"Ex\", \n",
    "            train[col_name] == \"Gd\", \n",
    "            train[col_name] == \"TA\", \n",
    "            train[col_name] == \"Fa\", \n",
    "            train[col_name] == \"Po\"\n",
    "        ], \n",
    "        choicelist = [5, 4, 3, 2, 1], \n",
    "        default = 0\n",
    "    )\n",
    "    return ret\n",
    "\n",
    "def ord_scale_2(train, col_name):\n",
    "    ret = np.select(\n",
    "        condlist = [\n",
    "            train[col_name] == \"GLQ\", \n",
    "            train[col_name] == \"ALQ\", \n",
    "            train[col_name] == \"BLQ\", \n",
    "            train[col_name] == \"REC\", \n",
    "            train[col_name] == \"LwQ\", \n",
    "            train[col_name] == \"Unf\", \n",
    "        ], \n",
    "        choicelist = [6, 5, 4, 3, 2, 1], \n",
    "        default = 0\n",
    "    )\n",
    "    return ret\n",
    "\n",
    "# Test\n",
    "print(np.unique(ord_scale_1(train, \"ExterCond\")))\n",
    "print(np.unique(ord_scale_1(train, \"GarageQual\")))\n",
    "print(np.unique(ord_scale_2(train, \"BsmtFinType2\")))"
   ]
  },
  {
   "cell_type": "code",
   "execution_count": 6,
   "metadata": {},
   "outputs": [],
   "source": [
    "# Ordinal Recoding\n",
    "train['LotShape'] = np.select(\n",
    "    condlist = [\n",
    "        train['LotShape'] == \"Reg\", \n",
    "        train['LotShape'] == \"IR1\", \n",
    "        train['LotShape'] == \"IR2\", \n",
    "        train['LotShape'] == \"IR3\" \n",
    "    ], \n",
    "    choicelist = [3, 2, 1, 0]\n",
    ")\n",
    "\n",
    "train['LandSlope'] = np.select(\n",
    "    condlist = [\n",
    "        train['LandSlope'] == \"Gtl\", \n",
    "        train['LandSlope'] == \"Mod\", \n",
    "        train['LandSlope'] == \"Sev\"\n",
    "    ], \n",
    "    choicelist = [2, 1, 0]\n",
    ")\n",
    "\n",
    "train['BsmtExposure'] = np.select(\n",
    "    condlist = [\n",
    "        train['BsmtExposure'] == \"Gd\", \n",
    "        train['BsmtExposure'] == \"Av\", \n",
    "        train['BsmtExposure'] == \"Mn\", \n",
    "        train['BsmtExposure'] == \"No\"\n",
    "    ], \n",
    "    choicelist = [4, 3, 2, 1], \n",
    "    default = 0\n",
    ")\n",
    "\n",
    "train['GarageFinish'] = np.select(\n",
    "    condlist = [\n",
    "        train['GarageFinish'] == \"Fin\", \n",
    "        train['GarageFinish'] == \"RFn\", \n",
    "        train['GarageFinish'] == \"Unf\", \n",
    "    ], \n",
    "    choicelist = [3, 2, 1], \n",
    "    default = 0\n",
    ")\n",
    "\n",
    "train['Functional'] = np.select(\n",
    "    condlist = [\n",
    "        train['Functional'] == \"Typ\", \n",
    "        train['Functional'] == \"Min1\", \n",
    "        train['Functional'] == \"Min2\", \n",
    "        train['Functional'] == \"Mod\", \n",
    "        train['Functional'] == \"Maj1\", \n",
    "        train['Functional'] == \"Maj2\", \n",
    "        train['Functional'] == \"Sev\", \n",
    "        train['Functional'] == \"Sal\" \n",
    "    ], \n",
    "    choicelist = [7, 6, 5, 4, 3, 2, 1, 0]\n",
    ")"
   ]
  },
  {
   "cell_type": "code",
   "execution_count": 7,
   "metadata": {},
   "outputs": [
    {
     "name": "stdout",
     "output_type": "stream",
     "text": [
      "['YearSinceRmdl', 'TotalFinishedBsmt', 'PercentLowQual', 'House_age', 'RoofStyle_Hip', 'Exterior2nd_MetalSd', 'Exterior2nd_VinylSd', 'ExterQual_TA', 'SaleType_New', 'SaleCondition_Partial']\n"
     ]
    }
   ],
   "source": [
    "# Extract response\n",
    "if 'SalePrice' in train:\n",
    "    response = train['SalePrice']\n",
    "    train = train.drop('SalePrice', axis = 1)\n",
    "else: \n",
    "    train = train\n",
    "\n",
    "# Dummies\n",
    "train = pd.get_dummies(train, drop_first = True)\n",
    "\n",
    "# Center + Scale \n",
    "from sklearn.preprocessing import StandardScaler\n",
    "scaler = StandardScaler()\n",
    "train = pd.DataFrame(scaler.fit_transform(train), columns = train.columns)\n",
    "\n",
    "# knnImpute \n",
    "from sklearn.impute import KNNImputer\n",
    "imputer = KNNImputer(n_neighbors = 5)\n",
    "train = pd.DataFrame(imputer.fit_transform(train), columns = train.columns)\n",
    "\n",
    "# Reverse center + scale for other preprocessing methods.\n",
    "train = pd.DataFrame(scaler.inverse_transform(train), columns = train.columns)\n",
    "\n",
    "## NZV - remove all variable with less than 5% variance.\n",
    "from sklearn.feature_selection import VarianceThreshold\n",
    "selector = VarianceThreshold(threshold = 0.05)\n",
    "train = train.loc[:, selector.fit(train).get_support()]\n",
    "\n",
    "# Corr\n",
    "def drop_high_cor(df, threshold = 0.9):\n",
    "    # Create correlation matrix\n",
    "    corr_matrix = df.corr().abs()\n",
    "\n",
    "    # Select upper triangle of correlation matrix\n",
    "    upper = corr_matrix.where(np.triu(np.ones(corr_matrix.shape), k=1).astype(bool))\n",
    "\n",
    "    # Find features with correlation greater than 0.95\n",
    "    to_drop = [column for column in upper.columns if any(upper[column] > threshold)]\n",
    "\n",
    "    print(to_drop)\n",
    "\n",
    "    # Drop features \n",
    "    return df.drop(to_drop, axis=1)\n",
    "\n",
    "train = drop_high_cor(train, threshold = 0.9)\n",
    "\n",
    "# Splines\n",
    "\n",
    "# Yeo-Johnson \n",
    "\n",
    "# Log Price\n"
   ]
  },
  {
   "cell_type": "code",
   "execution_count": 8,
   "metadata": {},
   "outputs": [
    {
     "name": "stdout",
     "output_type": "stream",
     "text": [
      "    Id  LotFrontage  LotArea  LotShape  LandSlope  OverallQual  OverallCond  \\\n",
      "0  1.0         65.0   8450.0       3.0        2.0          7.0          5.0   \n",
      "1  2.0         80.0   9600.0       3.0        2.0          6.0          8.0   \n",
      "2  3.0         68.0  11250.0       2.0        2.0          7.0          5.0   \n",
      "3  4.0         60.0   9550.0       2.0        2.0          7.0          5.0   \n",
      "4  5.0         84.0  14260.0       2.0        2.0          8.0          5.0   \n",
      "\n",
      "   YearBuilt  YearRemodAdd    MasVnrArea  ...  FireplaceQu_TA  \\\n",
      "0     2003.0        2003.0  1.960000e+02  ...   -2.775558e-17   \n",
      "1     1976.0        1976.0 -1.421085e-14  ...    1.000000e+00   \n",
      "2     2001.0        2002.0  1.620000e+02  ...    1.000000e+00   \n",
      "3     1915.0        1970.0 -1.421085e-14  ...   -2.775558e-17   \n",
      "4     2000.0        2000.0  3.500000e+02  ...    1.000000e+00   \n",
      "\n",
      "   GarageType_Attchd  GarageType_BuiltIn  GarageType_Detchd  GarageQual_TA  \\\n",
      "0                1.0                 0.0                0.0            1.0   \n",
      "1                1.0                 0.0                0.0            1.0   \n",
      "2                1.0                 0.0                0.0            1.0   \n",
      "3                0.0                 0.0                1.0            1.0   \n",
      "4                1.0                 0.0                0.0            1.0   \n",
      "\n",
      "   GarageCond_TA  PavedDrive_Y  Fence_MnPrv  SaleType_WD  SaleCondition_Normal  \n",
      "0            1.0           1.0          0.0          1.0          1.000000e+00  \n",
      "1            1.0           1.0          0.0          1.0          1.000000e+00  \n",
      "2            1.0           1.0          0.0          1.0          1.000000e+00  \n",
      "3            1.0           1.0          0.0          1.0         -1.110223e-16  \n",
      "4            1.0           1.0          0.0          1.0          1.000000e+00  \n",
      "\n",
      "[5 rows x 108 columns]\n"
     ]
    },
    {
     "data": {
      "text/plain": [
       "0"
      ]
     },
     "execution_count": 8,
     "metadata": {},
     "output_type": "execute_result"
    }
   ],
   "source": [
    "# Unit Test\n",
    "print(train.head())\n",
    "train.isnull().sum().sum()\n",
    "#train['NeighRich'].unique()\n",
    "#train['SalePrice'].isnull().sum()\n",
    "\n",
    "#test.info()\n",
    "#if 'SalePrice' in train:\n",
    "    #test_69 = train.drop('SalePrice', axis = 1)\n",
    "#else: \n",
    "    #test_69 = train\n",
    "#print(test_69.equals(test))"
   ]
  },
  {
   "cell_type": "markdown",
   "metadata": {},
   "source": [
    "# Random Forest"
   ]
  },
  {
   "cell_type": "markdown",
   "metadata": {},
   "source": [
    "# Gradient Boosting"
   ]
  },
  {
   "cell_type": "markdown",
   "metadata": {},
   "source": [
    "# Neutral Network"
   ]
  }
 ],
 "metadata": {
  "kernelspec": {
   "display_name": "Python 3.9.7 ('base')",
   "language": "python",
   "name": "python3"
  },
  "language_info": {
   "codemirror_mode": {
    "name": "ipython",
    "version": 3
   },
   "file_extension": ".py",
   "mimetype": "text/x-python",
   "name": "python",
   "nbconvert_exporter": "python",
   "pygments_lexer": "ipython3",
   "version": "3.9.7"
  },
  "vscode": {
   "interpreter": {
    "hash": "2043299c89c8cd0b4d1a6f5cf4529bd58e6a4e0fe3181a25e0d328c821cdc5c5"
   }
  }
 },
 "nbformat": 4,
 "nbformat_minor": 2
}
